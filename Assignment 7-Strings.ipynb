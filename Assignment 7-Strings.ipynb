{
 "cells": [
  {
   "cell_type": "markdown",
   "id": "1ea1dcf6-7d1c-4c06-848e-b1478abfe825",
   "metadata": {},
   "source": [
    "# Assignment 7 Questions - Strings | DSA"
   ]
  },
  {
   "cell_type": "markdown",
   "id": "295cfeac-f197-485d-bd9a-6fcf746f0377",
   "metadata": {},
   "source": [
    "## Q1\n",
    "**Question 1**\n",
    "\n",
    "Given two strings s and t, *determine if they are isomorphic*.\n",
    "\n",
    "Two strings s and t are isomorphic if the characters in s can be replaced to get t.\n",
    "\n",
    "All occurrences of a character must be replaced with another character while preserving the order of characters. No two characters may map to the same character, but a character may map to itself.\n",
    "\n",
    "**Example 1:**\n",
    "\n",
    "**Input:** s = \"egg\", t = \"add\"\n",
    "\n",
    "**Output:** true"
   ]
  },
  {
   "cell_type": "code",
   "execution_count": 1,
   "id": "d367c062-407d-40e6-82b1-f0f2344a78a7",
   "metadata": {},
   "outputs": [
    {
     "data": {
      "text/plain": [
       "True"
      ]
     },
     "execution_count": 1,
     "metadata": {},
     "output_type": "execute_result"
    }
   ],
   "source": [
    "def isIsomorphic(s, t) -> bool:\n",
    "    map_st, map_ts = {}, {}\n",
    "\n",
    "    for i in range(len(s)):\n",
    "        c1, c2 = s[i], t[i]\n",
    "\n",
    "        if ((c1 in map_st and map_st[c1] != c2) or (c2 in map_ts and map_ts[c2] != c1)):\n",
    "            return False\n",
    "        map_st[c1] = c2\n",
    "        map_ts[c2] = c1\n",
    "    return True\n",
    "s = \"egg\"\n",
    "t = \"add\"\n",
    "isIsomorphic(s, t)"
   ]
  },
  {
   "cell_type": "markdown",
   "id": "aa57f371-49df-4408-8d36-eb88856e1861",
   "metadata": {},
   "source": [
    "## Q2\n",
    "**Question 2**\n",
    "\n",
    "Given a string num which represents an integer, return true *if* num *is a **strobogrammatic number***.\n",
    "\n",
    "A **strobogrammatic number** is a number that looks the same when rotated 180 degrees (looked at upside down).\n",
    "\n",
    "**Example 1:**\n",
    "\n",
    "**Input:** num = \"69\"\n",
    "\n",
    "**Output:**\n",
    "\n",
    "true"
   ]
  },
  {
   "cell_type": "code",
   "execution_count": 14,
   "id": "575100eb-9f2d-4257-b966-334b4561504c",
   "metadata": {},
   "outputs": [
    {
     "data": {
      "text/plain": [
       "True"
      ]
     },
     "execution_count": 14,
     "metadata": {},
     "output_type": "execute_result"
    }
   ],
   "source": [
    "def isStrobogrammatic(num):\n",
    "    map_num = {0:'0', 1:'1', 6:'9', 8:'8', 9:'6'}\n",
    "    \n",
    "    for i in range(len(num)//2):\n",
    "        L = num[0]\n",
    "        R = int(num[len(num)-1-i])\n",
    "        \n",
    "        if(L != map_num[R]):\n",
    "            return False\n",
    "    return True\n",
    "\n",
    "num = \"8\"\n",
    "isStrobogrammatic(num)"
   ]
  },
  {
   "cell_type": "markdown",
   "id": "8396b911-ea5c-467e-9737-e3fb99f16a53",
   "metadata": {},
   "source": [
    "## Q3\n",
    "**Question 3**\n",
    "\n",
    "Given two non-negative integers, num1 and num2 represented as string, return *the sum of* num1 *and* num2 *as a string*.\n",
    "\n",
    "You must solve the problem without using any built-in library for handling large integers (such as BigInteger). You must also not convert the inputs to integers directly.\n",
    "\n",
    "**Example 1:**\n",
    "\n",
    "**Input:** num1 = \"11\", num2 = \"123\"\n",
    "\n",
    "**Output:**\n",
    "\n",
    "\"134\""
   ]
  },
  {
   "cell_type": "code",
   "execution_count": 17,
   "id": "4abea05a-9cba-4250-b94d-4e5709b060ff",
   "metadata": {},
   "outputs": [
    {
     "data": {
      "text/plain": [
       "'134'"
      ]
     },
     "execution_count": 17,
     "metadata": {},
     "output_type": "execute_result"
    }
   ],
   "source": [
    "def addStrings(num1, num2) -> str:\n",
    "    output = []\n",
    "    i = len(num1) - 1\n",
    "    j = len(num2) - 1\n",
    "    carry = 0\n",
    "\n",
    "    while i >= 0 or j >= 0 or carry != 0:\n",
    "        digit_sum = carry\n",
    "\n",
    "        if i >= 0:\n",
    "            digit_sum += int(num1[i])\n",
    "            i -= 1\n",
    "\n",
    "        if j >= 0:\n",
    "            digit_sum += int(num2[j])\n",
    "            j -= 1\n",
    "\n",
    "        output.append(str(digit_sum % 10))\n",
    "        carry = digit_sum // 10\n",
    "\n",
    "    return ''.join(output[::-1])\n",
    "num1 = \"11\"\n",
    "num2 = \"123\"\n",
    "addStrings(num1, num2)"
   ]
  },
  {
   "cell_type": "markdown",
   "id": "b4e87a6f-636f-4600-a579-08494d00caba",
   "metadata": {},
   "source": [
    "## Q4\n",
    "**Question 4**\n",
    "\n",
    "Given a string s, reverse the order of characters in each word within a sentence while still preserving whitespace and initial word order.\n",
    "\n",
    "**Example 1:**\n",
    "\n",
    "**Input:** s = \"Let's take LeetCode contest\"\n",
    "\n",
    "**Output:** \"s'teL ekat edoCteeL tsetnoc\""
   ]
  },
  {
   "cell_type": "code",
   "execution_count": 21,
   "id": "2f020ffe-a1b9-4abf-ae4a-7358bb8b6150",
   "metadata": {},
   "outputs": [
    {
     "data": {
      "text/plain": [
       "\"s'teL ekat edoCteeL tsetnoc\""
      ]
     },
     "execution_count": 21,
     "metadata": {},
     "output_type": "execute_result"
    }
   ],
   "source": [
    "def reverseWords(s) -> str:\n",
    "    s = s.split()\n",
    "    a = []\n",
    "    for i in s:\n",
    "        a.append(i[::-1])\n",
    "    return ' '.join(a)\n",
    "s = \"Let's take LeetCode contest\"\n",
    "reverseWords(s)"
   ]
  },
  {
   "cell_type": "markdown",
   "id": "11c1a940-7646-4725-b345-411c3ea9e82c",
   "metadata": {},
   "source": [
    "## Q5\n",
    "**Question 5**\n",
    "\n",
    "Given a string s and an integer k, reverse the first k characters for every 2k characters counting from the start of the string.\n",
    "\n",
    "If there are fewer than k characters left, reverse all of them. If there are less than 2k but greater than or equal to k characters, then reverse the first k characters and leave the other as original.\n",
    "\n",
    "**Example 1:**\n",
    "\n",
    "**Input:** s = \"abcdefg\", k = 2\n",
    "\n",
    "**Output:**\n",
    "\n",
    "\"bacdfeg\""
   ]
  },
  {
   "cell_type": "code",
   "execution_count": 22,
   "id": "e9390934-7625-4aa3-846a-026d1cfbf90e",
   "metadata": {},
   "outputs": [
    {
     "name": "stdout",
     "output_type": "stream",
     "text": [
      "bacdfeg\n"
     ]
    }
   ],
   "source": [
    "def reverseStr(s, k):\n",
    "    result = \"\"\n",
    "    for i in range(0, len(s), 2*k):\n",
    "        reversed_chars = s[i:i+k][::-1]\n",
    "        result += reversed_chars + s[i+k:i+2*k]\n",
    "    return result\n",
    "\n",
    "s = \"abcdefg\"\n",
    "k = 2\n",
    "print(reverseStr(s, k))"
   ]
  },
  {
   "cell_type": "markdown",
   "id": "3def71a3-0aa1-48d3-b935-181bb1d33fea",
   "metadata": {},
   "source": [
    "## Q6\n",
    "**Question 6**\n",
    "\n",
    "Given two strings s and goal, return true *if and only if* s *can become* goal *after some number of **shifts** on* s.\n",
    "\n",
    "A **shift** on s consists of moving the leftmost character of s to the rightmost position.\n",
    "\n",
    "- For example, if s = \"abcde\", then it will be \"bcdea\" after one shift.\n",
    "\n",
    "**Example 1:**\n",
    "\n",
    "**Input:** s = \"abcde\", goal = \"cdeab\"\n",
    "\n",
    "**Output:**\n",
    "\n",
    "true"
   ]
  },
  {
   "cell_type": "code",
   "execution_count": 24,
   "id": "565264e2-9941-44d1-b0ac-b484d334a11b",
   "metadata": {},
   "outputs": [
    {
     "name": "stdout",
     "output_type": "stream",
     "text": [
      "True\n"
     ]
    }
   ],
   "source": [
    "def rotateString(s, goal):\n",
    "    if len(s) != len(goal):\n",
    "        return False\n",
    "    if s == goal:\n",
    "        return True\n",
    "    for i in range(len(s)):\n",
    "        s = s[1:] + s[0]\n",
    "        if s == goal:\n",
    "            return True\n",
    "    return False\n",
    "\n",
    "s = \"abcde\"\n",
    "goal = \"cdeab\"\n",
    "print(rotateString(s, goal))"
   ]
  },
  {
   "cell_type": "markdown",
   "id": "7b2ce829-c559-4943-813d-4be5a8051d53",
   "metadata": {},
   "source": [
    "## Q7\n",
    "**Question 7**\n",
    "\n",
    "Given two strings s and t, return true *if they are equal when both are typed into empty text editors*. '#' means a backspace character.\n",
    "\n",
    "Note that after backspacing an empty text, the text will continue empty.\n",
    "\n",
    "**Example 1:**\n",
    "\n",
    "**Input:** s = \"ab#c\", t = \"ad#c\"\n",
    "\n",
    "**Output:** true\n",
    "\n",
    "**Explanation:**\n",
    "\n",
    "Both s and t become \"ac\"."
   ]
  },
  {
   "cell_type": "code",
   "execution_count": 27,
   "id": "e19869e7-4a51-4380-a371-11a697f4eb4e",
   "metadata": {},
   "outputs": [
    {
     "name": "stdout",
     "output_type": "stream",
     "text": [
      "True\n"
     ]
    }
   ],
   "source": [
    "def backspaceCompare(s, t):\n",
    "    def processString(string):\n",
    "        stack = []\n",
    "        for char in string:\n",
    "            if char != '#':\n",
    "                stack.append(char)\n",
    "            elif stack:\n",
    "                stack.pop()\n",
    "        return \"\".join(stack)\n",
    "\n",
    "    return processString(s) == processString(t)\n",
    "\n",
    "s = \"ab#c\"\n",
    "t = \"ad#c\"\n",
    "print(backspaceCompare(s, t))"
   ]
  },
  {
   "cell_type": "markdown",
   "id": "94d0ab1f-3ca0-47c8-bb9e-f024d8db834c",
   "metadata": {},
   "source": [
    "## Q8\n",
    "**Question 8**\n",
    "\n",
    "You are given an array coordinates, coordinates[i] = [x, y], where [x, y] represents the coordinate of a point. Check if these points make a straight line in the XY plane.\n",
    "\n",
    "**Example 1:**\n",
    "\n",
    "**Input:** coordinates = [[1,2],[2,3],[3,4],[4,5],[5,6],[6,7]]\n",
    "\n",
    "**Output:** true"
   ]
  },
  {
   "cell_type": "code",
   "execution_count": null,
   "id": "6ff83f2e-c9aa-4f4f-8bbf-d845ed24dcbd",
   "metadata": {},
   "outputs": [],
   "source": [
    "def checkStraightLine(coordinates):\n",
    "    n = len(coordinates)\n",
    "    \n",
    "    # Calculate the slope between the first two points\n",
    "    x0, y0 = coordinates[0]\n",
    "    x1, y1 = coordinates[1]\n",
    "    slope = (y1 - y0) / (x1 - x0) if x1 - x0 != 0 else float('inf')\n",
    "    \n",
    "    # Check the slope between each pair of consecutive points\n",
    "    for i in range(2, n):\n",
    "        xi, yi = coordinates[i]\n",
    "        xi_prev, yi_prev = coordinates[i-1]\n",
    "        \n",
    "        # Calculate the slope between the current point and the previous point\n",
    "        current_slope = (yi - yi_prev) / (xi - xi_prev) if xi - xi_prev != 0 else float('inf')\n",
    "        \n",
    "        # If the slope is not equal to the initial slope, return False\n",
    "        if current_slope != slope:\n",
    "            return False\n",
    "    \n",
    "    # If all slopes are equal, return True\n",
    "    return True\n"
   ]
  }
 ],
 "metadata": {
  "kernelspec": {
   "display_name": "Python 3 (ipykernel)",
   "language": "python",
   "name": "python3"
  },
  "language_info": {
   "codemirror_mode": {
    "name": "ipython",
    "version": 3
   },
   "file_extension": ".py",
   "mimetype": "text/x-python",
   "name": "python",
   "nbconvert_exporter": "python",
   "pygments_lexer": "ipython3",
   "version": "3.10.6"
  }
 },
 "nbformat": 4,
 "nbformat_minor": 5
}
