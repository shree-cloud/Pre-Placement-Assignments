{
 "cells": [
  {
   "cell_type": "markdown",
   "id": "9187a354-c4a3-4d84-acba-ebc0558f8af2",
   "metadata": {},
   "source": [
    "# Assignment 18 Questions - Searching and Sorting | DSA"
   ]
  },
  {
   "cell_type": "markdown",
   "id": "60b65a15-f567-4fa4-851d-bb67c7dc7b98",
   "metadata": {},
   "source": [
    "## Q1\n",
    "1. **Merge Intervals**\n",
    "\n",
    "Given an array of `intervals` where `intervals[i] = [starti, endi]`, merge all overlapping intervals, and return *an array of the non-overlapping intervals that cover all the intervals in the input*.\n",
    "\n",
    "**Example 1:**\n",
    "\n",
    "```\n",
    "Input: intervals = [[1,3],[2,6],[8,10],[15,18]]\n",
    "Output: [[1,6],[8,10],[15,18]]\n",
    "Explanation: Since intervals [1,3] and [2,6] overlap, merge them into [1,6].\n",
    "\n",
    "```\n",
    "\n",
    "**Example 2:**\n",
    "\n",
    "```\n",
    "Input: intervals = [[1,4],[4,5]]\n",
    "Output: [[1,5]]\n",
    "Explanation: Intervals [1,4] and [4,5] are considered overlapping.\n",
    "\n",
    "```\n",
    "\n",
    "**Constraints:**\n",
    "\n",
    "- `1 <= intervals.length <= 10000`\n",
    "- `intervals[i].length == 2`\n",
    "- `0 <= starti <= endi <= 10000`"
   ]
  },
  {
   "cell_type": "code",
   "execution_count": 13,
   "id": "4d258bab-60de-4265-8ca1-cb0d5633a10d",
   "metadata": {},
   "outputs": [
    {
     "data": {
      "text/plain": [
       "[[1, 5]]"
      ]
     },
     "execution_count": 13,
     "metadata": {},
     "output_type": "execute_result"
    }
   ],
   "source": [
    "def merge(intervals):\n",
    "    if not intervals:\n",
    "        return []\n",
    "\n",
    "    intervals.sort(key=lambda x: x[0])\n",
    "\n",
    "    merged_intervals = [intervals[0]]\n",
    "    for interval in intervals[1:]:\n",
    "        if interval[0] <= merged_intervals[-1][1]:\n",
    "            merged_intervals[-1][1] = max(merged_intervals[-1][1], interval[1])\n",
    "        else:\n",
    "            merged_intervals.append(interval)\n",
    "\n",
    "    return merged_intervals\n",
    "\n",
    "intervals = [[1,4],[4,5]]\n",
    "merge(intervals)"
   ]
  },
  {
   "cell_type": "markdown",
   "id": "d002f5f6-0db9-446e-890d-aeca6ce16a7f",
   "metadata": {},
   "source": [
    "## Q2\n",
    "2. **Sort Colors**\n",
    "\n",
    "Given an array `nums` with `n` objects colored red, white, or blue, sort them **[in-place](https://en.wikipedia.org/wiki/In-place_algorithm)** so that objects of the same color are adjacent, with the colors in the order red, white, and blue.\n",
    "\n",
    "We will use the integers `0`, `1`, and `2` to represent the color red, white, and blue, respectively.\n",
    "\n",
    "You must solve this problem without using the library's sort function.\n",
    "\n",
    "**Example 1:**\n",
    "\n",
    "```\n",
    "Input: nums = [2,0,2,1,1,0]\n",
    "Output: [0,0,1,1,2,2]\n",
    "\n",
    "```\n",
    "\n",
    "**Example 2:**\n",
    "\n",
    "```\n",
    "Input: nums = [2,0,1]\n",
    "Output: [0,1,2]\n",
    "\n",
    "```\n",
    "\n",
    "**Constraints:**\n",
    "\n",
    "- `n == nums.length`\n",
    "- `1 <= n <= 300`\n",
    "- `nums[i]` is either `0`, `1`, or `2`."
   ]
  },
  {
   "cell_type": "code",
   "execution_count": 11,
   "id": "a8168ec2-e843-49db-98c9-f5b2e8bb0901",
   "metadata": {},
   "outputs": [
    {
     "data": {
      "text/plain": [
       "[0, 1, 2]"
      ]
     },
     "execution_count": 11,
     "metadata": {},
     "output_type": "execute_result"
    }
   ],
   "source": [
    "def sortColors(nums):\n",
    "    red, white, blue = 0, 0, len(nums) - 1\n",
    "\n",
    "    while white <= blue:\n",
    "        if nums[white] == 0:\n",
    "            nums[red], nums[white] = nums[white], nums[red]\n",
    "            red += 1\n",
    "            white += 1\n",
    "        elif nums[white] == 1:\n",
    "            white += 1\n",
    "        else:\n",
    "            nums[white], nums[blue] = nums[blue], nums[white]\n",
    "            blue -= 1\n",
    "    return nums\n",
    "\n",
    "nums = [2,0,1]\n",
    "sortColors(nums)"
   ]
  },
  {
   "cell_type": "markdown",
   "id": "99125cf4-d5b5-4900-9e9a-023f08a53129",
   "metadata": {},
   "source": [
    "## Q3\n",
    "3. **First Bad Version Solution**\n",
    "\n",
    "You are a product manager and currently leading a team to develop a new product. Unfortunately, the latest version of your product fails the quality check. Since each version is developed based on the previous version, all the versions after a bad version are also bad.\n",
    "\n",
    "Suppose you have `n` versions `[1, 2, ..., n]` and you want to find out the first bad one, which causes all the following ones to be bad.\n",
    "\n",
    "You are given an API `bool isBadVersion(version)` which returns whether `version` is bad. Implement a function to find the first bad version. You should minimize the number of calls to the API.\n",
    "\n",
    "**Example 1:**\n",
    "\n",
    "```\n",
    "Input: n = 5, bad = 4\n",
    "Output: 4\n",
    "Explanation:\n",
    "call isBadVersion(3) -> false\n",
    "call isBadVersion(5) -> true\n",
    "call isBadVersion(4) -> true\n",
    "Then 4 is the first bad version.\n",
    "\n",
    "```\n",
    "\n",
    "**Example 2:**\n",
    "\n",
    "```\n",
    "Input: n = 1, bad = 1\n",
    "Output: 1\n",
    "\n",
    "```\n",
    "\n",
    "**Constraints:**\n",
    "\n",
    "- `1 <= bad <= n <= 2^31 - 1`"
   ]
  },
  {
   "cell_type": "code",
   "execution_count": 9,
   "id": "0198bf27-aac1-47b2-bb7e-1446c04c23ec",
   "metadata": {},
   "outputs": [
    {
     "data": {
      "text/plain": [
       "4"
      ]
     },
     "execution_count": 9,
     "metadata": {},
     "output_type": "execute_result"
    }
   ],
   "source": [
    "def firstBadVersion(n):\n",
    "    left = 1\n",
    "    right = n\n",
    "\n",
    "    while left < right:\n",
    "        mid = left + (right - left) // 2\n",
    "        if isBadVersion(mid):\n",
    "            right = mid\n",
    "        else:\n",
    "            left = mid + 1\n",
    "\n",
    "    return left\n",
    "def isBadVersion(version):\n",
    "    return version >= 4\n",
    "\n",
    "n = 5\n",
    "bad = 4\n",
    "firstBadVersion(n)"
   ]
  },
  {
   "cell_type": "markdown",
   "id": "14f0a465-baa4-40a3-ac78-c6c654461ca6",
   "metadata": {},
   "source": [
    "## Q4\n",
    "4. **Maximum Gap**\n",
    "\n",
    "Given an integer array `nums`, return *the maximum difference between two successive elements in its sorted form*. If the array contains less than two elements, return `0`.\n",
    "\n",
    "You must write an algorithm that runs in linear time and uses linear extra space.\n",
    "\n",
    "**Example 1:**\n",
    "\n",
    "```\n",
    "Input: nums = [3,6,9,1]\n",
    "Output: 3\n",
    "Explanation: The sorted form of the array is [1,3,6,9], either (3,6) or (6,9) has the maximum difference 3.\n",
    "\n",
    "```\n",
    "\n",
    "**Example 2:**\n",
    "\n",
    "```\n",
    "Input: nums = [10]\n",
    "Output: 0\n",
    "Explanation: The array contains less than 2 elements, therefore return 0.\n",
    "\n",
    "```\n",
    "\n",
    "**Constraints:**\n",
    "\n",
    "- `1 <= nums.length <= 10^5`\n",
    "- `0 <= nums[i] <= 10^9`"
   ]
  },
  {
   "cell_type": "code",
   "execution_count": null,
   "id": "870032e3-4063-487d-987c-071ca2ec2e81",
   "metadata": {},
   "outputs": [],
   "source": []
  },
  {
   "cell_type": "markdown",
   "id": "355b4624-c1d5-4fa7-8f81-41b7625b34c9",
   "metadata": {},
   "source": [
    "## Q5\n",
    "5. **Contains Duplicate**\n",
    "\n",
    "Given an integer array `nums`, return `true` if any value appears **at least twice** in the array, and return `false` if every element is distinct.\n",
    "\n",
    "**Example 1:**\n",
    "\n",
    "```\n",
    "Input: nums = [1,2,3,1]\n",
    "Output: true\n",
    "\n",
    "```\n",
    "\n",
    "**Example 2:**\n",
    "\n",
    "```\n",
    "Input: nums = [1,2,3,4]\n",
    "Output: false\n",
    "\n",
    "```\n",
    "\n",
    "**Example 3:**\n",
    "\n",
    "```\n",
    "Input: nums = [1,1,1,3,3,4,3,2,4,2]\n",
    "Output: true\n",
    "\n",
    "```\n",
    "\n",
    "**Constraints:**\n",
    "\n",
    "- `1 <= nums.length <= 10^5`\n",
    "- `109 <= nums[i] <= 10^9`"
   ]
  },
  {
   "cell_type": "code",
   "execution_count": 4,
   "id": "1a9cff22-93f1-4e74-9534-9fde221b2fe9",
   "metadata": {},
   "outputs": [
    {
     "data": {
      "text/plain": [
       "False"
      ]
     },
     "execution_count": 4,
     "metadata": {},
     "output_type": "execute_result"
    }
   ],
   "source": [
    "def containsDuplicate(nums):\n",
    "    num_set = set()\n",
    "\n",
    "    for num in nums:\n",
    "        if num in num_set:\n",
    "            return True\n",
    "        num_set.add(num)\n",
    "\n",
    "    return False\n",
    "\n",
    "nums = [1,2,3,4]\n",
    "containsDuplicate(nums)"
   ]
  },
  {
   "cell_type": "markdown",
   "id": "ffc06ccf-4728-4d11-9919-c24aef605ac1",
   "metadata": {},
   "source": [
    "## Q6\n",
    "6. **Minimum Number of Arrows to Burst Balloons**\n",
    "\n",
    "There are some spherical balloons taped onto a flat wall that represents the XY-plane. The balloons are represented as a 2D integer array `points` where `points[i] = [xstart, xend]` denotes a balloon whose **horizontal diameter** stretches between `xstart` and `xend`. You do not know the exact y-coordinates of the balloons.\n",
    "\n",
    "Arrows can be shot up **directly vertically** (in the positive y-direction) from different points along the x-axis. A balloon with `xstart` and `xend` is **burst** by an arrow shot at `x` if `xstart <= x <= xend`. There is **no limit** to the number of arrows that can be shot. A shot arrow keeps traveling up infinitely, bursting any balloons in its path.\n",
    "\n",
    "Given the array `points`, return *the **minimum** number of arrows that must be shot to burst all balloons*.\n",
    "\n",
    "**Example 1:**\n",
    "\n",
    "```\n",
    "Input: points = [[10,16],[2,8],[1,6],[7,12]]\n",
    "Output: 2\n",
    "Explanation: The balloons can be burst by 2 arrows:\n",
    "- Shoot an arrow at x = 6, bursting the balloons [2,8] and [1,6].\n",
    "- Shoot an arrow at x = 11, bursting the balloons [10,16] and [7,12].\n",
    "\n",
    "```\n",
    "\n",
    "**Example 2:**\n",
    "\n",
    "```\n",
    "Input: points = [[1,2],[3,4],[5,6],[7,8]]\n",
    "Output: 4\n",
    "Explanation: One arrow needs to be shot for each balloon for a total of 4 arrows.\n",
    "\n",
    "```\n",
    "\n",
    "**Example 3:**\n",
    "\n",
    "```\n",
    "Input: points = [[1,2],[2,3],[3,4],[4,5]]\n",
    "Output: 2\n",
    "Explanation: The balloons can be burst by 2 arrows:\n",
    "- Shoot an arrow at x = 2, bursting the balloons [1,2] and [2,3].\n",
    "- Shoot an arrow at x = 4, bursting the balloons [3,4] and [4,5].\n",
    "\n",
    "```\n",
    "\n",
    "**Constraints:**\n",
    "\n",
    "- `1 <= points.length <= 10^5`\n",
    "- `points[i].length == 2`\n",
    "- `231 <= xstart < xend <= 2^31 - 1`"
   ]
  },
  {
   "cell_type": "code",
   "execution_count": 2,
   "id": "76d8bb30-4c89-4470-80b1-fe6c4e10771c",
   "metadata": {},
   "outputs": [
    {
     "data": {
      "text/plain": [
       "4"
      ]
     },
     "execution_count": 2,
     "metadata": {},
     "output_type": "execute_result"
    }
   ],
   "source": [
    "def findMinArrowShots(points):\n",
    "    if not points:\n",
    "        return 0\n",
    "\n",
    "    points.sort(key=lambda x: x[1])\n",
    "\n",
    "    arrows = 1\n",
    "    end = points[0][1]\n",
    "\n",
    "    for i in range(1, len(points)):\n",
    "        if points[i][0] > end:\n",
    "            arrows += 1\n",
    "            end = points[i][1]\n",
    "\n",
    "    return arrows\n",
    "\n",
    "points = [[1,2],[3,4],[5,6],[7,8]]\n",
    "findMinArrowShots(points)"
   ]
  },
  {
   "cell_type": "markdown",
   "id": "e3800a6e-a3b8-417c-afff-4fd491da68fa",
   "metadata": {},
   "source": [
    "## Q7\n",
    "7. **Longest Increasing Subsequence**\n",
    "\n",
    "Given an integer array `nums`, return *the length of the longest **strictly increasing***\n",
    "\n",
    "***subsequence***\n",
    "\n",
    ".\n",
    "\n",
    "**Example 1:**\n",
    "\n",
    "```\n",
    "Input: nums = [10,9,2,5,3,7,101,18]\n",
    "Output: 4\n",
    "Explanation: The longest increasing subsequence is [2,3,7,101], therefore the length is 4.\n",
    "\n",
    "```\n",
    "\n",
    "**Example 2:**\n",
    "\n",
    "```\n",
    "Input: nums = [0,1,0,3,2,3]\n",
    "Output: 4\n",
    "\n",
    "```\n",
    "\n",
    "**Example 3:**\n",
    "\n",
    "```\n",
    "Input: nums = [7,7,7,7,7,7,7]\n",
    "Output: 1\n",
    "\n",
    "```\n",
    "\n",
    "**Constraints:**\n",
    "\n",
    "- `1 <= nums.length <= 2500`\n",
    "- `-10^4 <= nums[i] <= 10^4`"
   ]
  },
  {
   "cell_type": "code",
   "execution_count": 1,
   "id": "b4c8a90f-cc2b-4493-b278-f01352099d9c",
   "metadata": {},
   "outputs": [
    {
     "data": {
      "text/plain": [
       "1"
      ]
     },
     "execution_count": 1,
     "metadata": {},
     "output_type": "execute_result"
    }
   ],
   "source": [
    "def lengthOfLIS(nums):\n",
    "    n = len(nums)\n",
    "    dp = [1] * n\n",
    "\n",
    "    for i in range(1, n):\n",
    "        for j in range(i):\n",
    "            if nums[i] > nums[j]:\n",
    "                dp[i] = max(dp[i], dp[j] + 1)\n",
    "\n",
    "    return max(dp) if dp else 0\n",
    "\n",
    "nums = [7,7,7,7,7,7,7]\n",
    "lengthOfLIS(nums)"
   ]
  },
  {
   "cell_type": "markdown",
   "id": "d2e6a1d5-1dcf-43cd-965f-b8e65f730e39",
   "metadata": {},
   "source": [
    "## Q8\n",
    " 8. **132 Pattern**\n",
    "\n",
    "Given an array of `n` integers `nums`, a **132 pattern** is a subsequence of three integers `nums[i]`, `nums[j]` and `nums[k]` such that `i < j < k` and `nums[i] < nums[k] < nums[j]`.\n",
    "\n",
    "Return `true` *if there is a **132 pattern** in* `nums`*, otherwise, return* `false`*.*\n",
    "\n",
    "**Example 1:**\n",
    "\n",
    "```\n",
    "Input: nums = [1,2,3,4]\n",
    "Output: false\n",
    "Explanation: There is no 132 pattern in the sequence.\n",
    "\n",
    "```\n",
    "\n",
    "**Example 2:**\n",
    "\n",
    "```\n",
    "Input: nums = [3,1,4,2]\n",
    "Output: true\n",
    "Explanation: There is a 132 pattern in the sequence: [1, 4, 2].\n",
    "\n",
    "```\n",
    "\n",
    "**Example 3:**\n",
    "\n",
    "```\n",
    "Input: nums = [-1,3,2,0]\n",
    "Output: true\n",
    "Explanation: There are three 132 patterns in the sequence: [-1, 3, 2], [-1, 3, 0] and [-1, 2, 0].\n",
    "\n",
    "```\n",
    "\n",
    "**Constraints:**\n",
    "\n",
    "- `n == nums.length`\n",
    "- `1 <= n <= 2 * 10^5`\n",
    "- `-10^9 <= nums[i] <= 10^9`"
   ]
  },
  {
   "cell_type": "code",
   "execution_count": 1,
   "id": "123bb061-3dab-4049-a1d1-1aa660b6b393",
   "metadata": {},
   "outputs": [
    {
     "data": {
      "text/plain": [
       "True"
      ]
     },
     "execution_count": 1,
     "metadata": {},
     "output_type": "execute_result"
    }
   ],
   "source": [
    "def find132pattern(nums) -> bool:\n",
    "    stack = []\n",
    "    s3 = float('-inf')\n",
    "\n",
    "    for i in range(len(nums)-1, -1, -1):\n",
    "        if nums[i] < s3:\n",
    "            return True\n",
    "        while stack and stack[-1] < nums[i]:\n",
    "            s3 = stack.pop()\n",
    "        stack.append(nums[i])\n",
    "\n",
    "    return False\n",
    "nums = [-1,3,2,0]\n",
    "find132pattern(nums)"
   ]
  }
 ],
 "metadata": {
  "kernelspec": {
   "display_name": "Python 3 (ipykernel)",
   "language": "python",
   "name": "python3"
  },
  "language_info": {
   "codemirror_mode": {
    "name": "ipython",
    "version": 3
   },
   "file_extension": ".py",
   "mimetype": "text/x-python",
   "name": "python",
   "nbconvert_exporter": "python",
   "pygments_lexer": "ipython3",
   "version": "3.10.6"
  }
 },
 "nbformat": 4,
 "nbformat_minor": 5
}
