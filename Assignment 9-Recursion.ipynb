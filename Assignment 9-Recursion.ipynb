{
 "cells": [
  {
   "cell_type": "markdown",
   "id": "f2ec80bb-e7c2-4dce-9523-0daa8bea66c1",
   "metadata": {},
   "source": [
    "# Assignment 9 Questions - Strings | DSA"
   ]
  },
  {
   "cell_type": "markdown",
   "id": "d2e83cad-ff36-4fb7-b92c-a14f7bff900f",
   "metadata": {},
   "source": [
    "def is_power_of_two(n):\n",
    "    if n <= 0:\n",
    "        return False\n",
    "    return (n & (n - 1)) == 0## Q1\n",
    "**Question 1**\n",
    "\n",
    "Given an integer `n`, return *`true` if it is a power of two. Otherwise, return `false`*.\n",
    "\n",
    "An integer `n` is a power of two, if there exists an integer `x` such that `n == 2x`.\n",
    "\n",
    "**Example 1:**\n",
    "Input: n = 1 \n",
    "\n",
    "Output: true\n",
    "\n",
    "**Example 2:**\n",
    "Input: n = 16 \n",
    "\n",
    "Output: true\n",
    "\n",
    "**Example 3:**\n",
    "Input: n = 3 \n",
    "\n",
    "Output: false\n"
   ]
  },
  {
   "cell_type": "code",
   "execution_count": null,
   "id": "82cabe22-a136-44a4-bab7-f029203a908a",
   "metadata": {},
   "outputs": [],
   "source": [
    "def is_power_of_two(n):\n",
    "    if n <= 0:\n",
    "        return False\n",
    "    return (n & (n - 1)) == 0"
   ]
  },
  {
   "cell_type": "markdown",
   "id": "deb2cedf-4f3f-4d34-a427-64d1377028e1",
   "metadata": {},
   "source": [
    "## Q2\n",
    "**Question 2**\n",
    "\n",
    "Given a number n, find the sum of the first natural numbers.\n",
    "\n",
    "**Example 1:**\n",
    "\n",
    "Input: n = 3 \n",
    "\n",
    "Output: 6\n",
    "\n",
    "**Example 2:**\n",
    "\n",
    "Input  : 5 \n",
    "\n",
    "Output : 15"
   ]
  },
  {
   "cell_type": "code",
   "execution_count": 13,
   "id": "0f7637d7-eed7-4385-b134-4bae679ae466",
   "metadata": {},
   "outputs": [
    {
     "data": {
      "text/plain": [
       "6"
      ]
     },
     "execution_count": 13,
     "metadata": {},
     "output_type": "execute_result"
    }
   ],
   "source": [
    "def sum_of_natural_numbers(n):\n",
    "    return (n * (n + 1)) // 2\n",
    "n = 3\n",
    "sum_of_natural_numbers(n)"
   ]
  },
  {
   "cell_type": "markdown",
   "id": "f5ddf52c-5e21-452a-befd-5f6d526fd856",
   "metadata": {},
   "source": [
    "## Q3\n",
    "**Question 3**\n",
    "\n",
    "****Given a positive integer, N. Find the factorial of N. \n",
    "\n",
    "**Example 1:**\n",
    "\n",
    "Input: N = 5 \n",
    "\n",
    "Output: 120\n",
    "\n",
    "**Example 2:**\n",
    "\n",
    "Input: N = 4\n",
    "\n",
    "Output: 24"
   ]
  },
  {
   "cell_type": "code",
   "execution_count": 12,
   "id": "39924d82-99e6-4fda-af13-b6532e30b0a1",
   "metadata": {},
   "outputs": [
    {
     "data": {
      "text/plain": [
       "120"
      ]
     },
     "execution_count": 12,
     "metadata": {},
     "output_type": "execute_result"
    }
   ],
   "source": [
    "def factorial(N):\n",
    "    if N == 0 or N == 1:\n",
    "        return 1\n",
    "    else:\n",
    "        return N * factorial(N - 1)\n",
    "    \n",
    "N = 5\n",
    "factorial(N)"
   ]
  },
  {
   "cell_type": "markdown",
   "id": "a81d2de3-f7d9-4d13-a0eb-f3306c69144e",
   "metadata": {},
   "source": [
    "## Q4\n",
    "**Question 4**\n",
    "\n",
    "Given a number N and a power P, the task is to find the exponent of this number raised to the given power, i.e. N^P.\n",
    "\n",
    "**Example 1 :** \n",
    "\n",
    "Input: N = 5, P = 2\n",
    "\n",
    "Output: 25\n",
    "\n",
    "**Example 2 :**\n",
    "Input: N = 2, P = 5\n",
    "\n",
    "Output: 32"
   ]
  },
  {
   "cell_type": "code",
   "execution_count": null,
   "id": "4c89bc7b-a4a7-4933-a7da-330647a4f8f9",
   "metadata": {},
   "outputs": [],
   "source": []
  },
  {
   "cell_type": "markdown",
   "id": "95745885-4130-493d-aad5-a2c30bc2094e",
   "metadata": {},
   "source": [
    "## Q5\n",
    "**Question 5**\n",
    "\n",
    "Given an array of integers **arr**, the task is to find maximum element of that array using recursion.\n",
    "\n",
    "**Example 1:**\n",
    "\n",
    "Input: arr = {1, 4, 3, -5, -4, 8, 6};\n",
    "Output: 8\n",
    "\n",
    "**Example 2:**\n",
    "\n",
    "Input: arr = {1, 4, 45, 6, 10, -8};\n",
    "Output: 45"
   ]
  },
  {
   "cell_type": "code",
   "execution_count": 10,
   "id": "7f075d70-9f74-4b4b-8866-81eb10a488f9",
   "metadata": {},
   "outputs": [
    {
     "data": {
      "text/plain": [
       "8"
      ]
     },
     "execution_count": 10,
     "metadata": {},
     "output_type": "execute_result"
    }
   ],
   "source": [
    "def findMax(arr, n):\n",
    "    if n == 1:\n",
    "        return arr[0]\n",
    "    else:\n",
    "        max_elem = findMax(arr, n - 1)\n",
    "        return max(arr[n - 1], max_elem)\n",
    "arr = [1, 4, 3, -5, -4, 8, 6]\n",
    "n = len(arr)\n",
    "findMax(arr, n)"
   ]
  },
  {
   "cell_type": "markdown",
   "id": "e6bbfba8-daea-46f6-966c-76fc54980758",
   "metadata": {},
   "source": [
    "## Q6\n",
    "**Question 6**\n",
    "\n",
    "Given first term (a), common difference (d) and a integer N of the Arithmetic Progression series, the task is to find Nth term of the series.\n",
    "\n",
    "**Example 1:**\n",
    "\n",
    "Input : a = 2 d = 1 N = 5\n",
    "Output : 6\n",
    "The 5th term of the series is : 6\n",
    "\n",
    "**Example 2:**\n",
    "\n",
    "Input : a = 5 d = 2 N = 10\n",
    "Output : 23\n",
    "The 10th term of the series is : 23"
   ]
  },
  {
   "cell_type": "code",
   "execution_count": 6,
   "id": "544b4296-0f18-45f2-9c09-ef69e9fdffb7",
   "metadata": {},
   "outputs": [
    {
     "data": {
      "text/plain": [
       "6"
      ]
     },
     "execution_count": 6,
     "metadata": {},
     "output_type": "execute_result"
    }
   ],
   "source": [
    "def findNthTerm(a, d, N):\n",
    "    return a + (N - 1) * d\n",
    "a = 2\n",
    "d = 1\n",
    "N = 5\n",
    "findNthTerm(a, d, N)"
   ]
  },
  {
   "cell_type": "markdown",
   "id": "ca6f77b3-210c-4e9f-8697-9e5d2582cd55",
   "metadata": {},
   "source": [
    "## Q7\n",
    "**Question 7**\n",
    "\n",
    "Given a string S, the task is to write a program to print all permutations of a given string.\n",
    "\n",
    "**Example 1:**\n",
    "\n",
    "***Input:***\n",
    "\n",
    "*S = “ABC”*\n",
    "\n",
    "***Output:***\n",
    "\n",
    "*“ABC”, “ACB”, “BAC”, “BCA”, “CBA”, “CAB”*\n",
    "\n",
    "**Example 2:**\n",
    "\n",
    "***Input:***\n",
    "\n",
    "*S = “XY”*\n",
    "\n",
    "***Output:***\n",
    "\n",
    "*“XY”, “YX”*"
   ]
  },
  {
   "cell_type": "code",
   "execution_count": 5,
   "id": "cb81a760-eda0-409d-84cc-b7b8c54401aa",
   "metadata": {},
   "outputs": [
    {
     "data": {
      "text/plain": [
       "['ABC', 'ACB', 'BAC', 'BCA', 'CBA', 'CAB']"
      ]
     },
     "execution_count": 5,
     "metadata": {},
     "output_type": "execute_result"
    }
   ],
   "source": [
    "def permute(s):\n",
    "    result = []\n",
    "    backtrack(list(s), 0, len(s) - 1, result)\n",
    "    return result\n",
    "\n",
    "def backtrack(s, left, right, result):\n",
    "    if left == right:\n",
    "        result.append(\"\".join(s))\n",
    "    else:\n",
    "        for i in range(left, right + 1):\n",
    "            s[left], s[i] = s[i], s[left]\n",
    "            backtrack(s, left + 1, right, result)\n",
    "            s[left], s[i] = s[i], s[left]\n",
    "            \n",
    "S = \"ABC\"\n",
    "permute(S)"
   ]
  },
  {
   "cell_type": "markdown",
   "id": "a6b0e211-ca02-4d49-918f-3d979e8d9c20",
   "metadata": {},
   "source": [
    "## Q8\n",
    "**Question 8**\n",
    "\n",
    "Given an array, find a product of all array elements.\n",
    "\n",
    "**Example 1:**\n",
    "\n",
    "Input  : arr[] = {1, 2, 3, 4, 5}\n",
    "Output : 120\n",
    "**Example 2:**\n",
    "\n",
    "Input  : arr[] = {1, 6, 3}\n",
    "Output : 18"
   ]
  },
  {
   "cell_type": "code",
   "execution_count": 2,
   "id": "50fabe51-132a-4d66-9770-c5b0184b8372",
   "metadata": {},
   "outputs": [
    {
     "data": {
      "text/plain": [
       "120"
      ]
     },
     "execution_count": 2,
     "metadata": {},
     "output_type": "execute_result"
    }
   ],
   "source": [
    "def productOfArray(arr):\n",
    "    product = 1\n",
    "    for num in arr:\n",
    "        product *= num\n",
    "    return product\n",
    "arr = {1, 2, 3, 4, 5}\n",
    "productOfArray(arr)"
   ]
  },
  {
   "cell_type": "code",
   "execution_count": null,
   "id": "5118b6e3-e829-44e7-960e-031e1c73734a",
   "metadata": {},
   "outputs": [],
   "source": []
  }
 ],
 "metadata": {
  "kernelspec": {
   "display_name": "Python 3 (ipykernel)",
   "language": "python",
   "name": "python3"
  },
  "language_info": {
   "codemirror_mode": {
    "name": "ipython",
    "version": 3
   },
   "file_extension": ".py",
   "mimetype": "text/x-python",
   "name": "python",
   "nbconvert_exporter": "python",
   "pygments_lexer": "ipython3",
   "version": "3.10.6"
  }
 },
 "nbformat": 4,
 "nbformat_minor": 5
}
