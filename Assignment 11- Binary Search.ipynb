{
 "cells": [
  {
   "cell_type": "markdown",
   "id": "5a8aae09-7f8a-46d2-93c5-e3c28d3fdb1d",
   "metadata": {},
   "source": [
    "# Assignment 11 Questions - Binary Search | DSA"
   ]
  },
  {
   "cell_type": "markdown",
   "id": "3af71f95-1d81-41ef-9829-ddee0cca3c46",
   "metadata": {},
   "source": [
    "## Q1\n",
    "**Question 1**\n",
    "\n",
    "Given a non-negative integer `x`, return *the square root of* `x` *rounded down to the nearest integer*. The returned integer should be **non-negative** as well.\n",
    "\n",
    "You **must not use** any built-in exponent function or operator.\n",
    "\n",
    "- For example, do not use `pow(x, 0.5)` in c++ or `x ** 0.5` in python.\n",
    "\n",
    "**Example 1:**\n",
    "\n",
    "```\n",
    "Input: x = 4\n",
    "Output: 2\n",
    "Explanation: The square root of 4 is 2, so we return 2.\n",
    "\n",
    "```\n",
    "\n",
    "**Example 2:**\n",
    "\n",
    "```\n",
    "Input: x = 8\n",
    "Output: 2\n",
    "Explanation: The square root of 8 is 2.82842..., and since we round it down to the nearest integer, 2 is returned.\n",
    "```"
   ]
  },
  {
   "cell_type": "code",
   "execution_count": 1,
   "id": "28b750ab-b584-4bf4-ac6c-546b4847ec42",
   "metadata": {},
   "outputs": [
    {
     "data": {
      "text/plain": [
       "2"
      ]
     },
     "execution_count": 1,
     "metadata": {},
     "output_type": "execute_result"
    }
   ],
   "source": [
    "def mySqrt(x) -> int:\n",
    "    l = 0\n",
    "    r = x\n",
    "    while l<=r:\n",
    "        mid = l + (r - l) //2\n",
    "        if mid*mid == x:\n",
    "            return mid\n",
    "        elif mid*mid < x:\n",
    "            ans = mid\n",
    "            l = mid + 1\n",
    "        else:\n",
    "            r = mid - 1\n",
    "    return ans\n",
    "x = 8\n",
    "mySqrt(x)"
   ]
  },
  {
   "cell_type": "markdown",
   "id": "96d80541-4d8f-46ab-ae65-cb924f167860",
   "metadata": {},
   "source": [
    "## Q2\n",
    "**Question 2**\n",
    "\n",
    "A peak element is an element that is strictly greater than its neighbors.\n",
    "\n",
    "Given a **0-indexed** integer array `nums`, find a peak element, and return its index. If the array contains multiple peaks, return the index to **any of the peaks**.\n",
    "\n",
    "You may imagine that `nums[-1] = nums[n] = -∞`. In other words, an element is always considered to be strictly greater than a neighbor that is outside the array.\n",
    "\n",
    "You must write an algorithm that runs in `O(log n)` time.\n",
    "\n",
    "**Example 1:**\n",
    "\n",
    "```\n",
    "Input: nums = [1,2,3,1]\n",
    "Output: 2\n",
    "Explanation: 3 is a peak element and your function should return the index number 2.\n",
    "```\n",
    "\n",
    "**Example 2:**\n",
    "\n",
    "```\n",
    "Input: nums = [1,2,1,3,5,6,4]\n",
    "Output: 5\n",
    "Explanation: Your function can return either index number 1 where the peak element is 2, or index number 5 where the peak element is 6.\n",
    "```"
   ]
  },
  {
   "cell_type": "code",
   "execution_count": 3,
   "id": "10e6c7cc-5a2e-49fd-8854-8c3c90750897",
   "metadata": {},
   "outputs": [
    {
     "data": {
      "text/plain": [
       "2"
      ]
     },
     "execution_count": 3,
     "metadata": {},
     "output_type": "execute_result"
    }
   ],
   "source": [
    "def findPeakElement(nums) -> int:\n",
    "    l = 0\n",
    "    r = len(nums) - 1\n",
    "\n",
    "    while l < r:\n",
    "        mid = l + (r - l) // 2\n",
    "\n",
    "        if nums[mid] > nums[mid + 1]:\n",
    "            r = mid\n",
    "        else:\n",
    "            l = mid + 1\n",
    "\n",
    "    return l\n",
    "nums = [1,2,3,1]\n",
    "findPeakElement(nums)"
   ]
  },
  {
   "cell_type": "markdown",
   "id": "0bbf1daa-874b-467c-8e7d-3ce7ea04520e",
   "metadata": {},
   "source": [
    "## Q3\n",
    "**Question 3**\n",
    "\n",
    "****\n",
    "\n",
    "Given an array `nums` containing `n` distinct numbers in the range `[0, n]`, return *the only number in the range that is missing from the array.*\n",
    "\n",
    "**Example 1:**\n",
    "\n",
    "```\n",
    "Input: nums = [3,0,1]\n",
    "Output: 2\n",
    "Explanation: n = 3 since there are 3 numbers, so all numbers are in the range [0,3]. 2 is the missing number in the range since it does not appear in nums.\n",
    "\n",
    "```\n",
    "\n",
    "**Example 2:**\n",
    "\n",
    "```\n",
    "Input: nums = [0,1]\n",
    "Output: 2\n",
    "Explanation: n = 2 since there are 2 numbers, so all numbers are in the range [0,2]. 2 is the missing number in the range since it does not appear in nums.\n",
    "\n",
    "```\n",
    "\n",
    "**Example 3:**\n",
    "\n",
    "```\n",
    "Input: nums = [9,6,4,2,3,5,7,0,1]\n",
    "Output: 8\n",
    "Explanation: n = 9 since there are 9 numbers, so all numbers are in the range [0,9]. 8 is the missing number in the range since it does not appear in nums.\n",
    "```"
   ]
  },
  {
   "cell_type": "code",
   "execution_count": 1,
   "id": "4728971d-83b6-4159-8794-9206c66f0d5e",
   "metadata": {},
   "outputs": [
    {
     "data": {
      "text/plain": [
       "9"
      ]
     },
     "execution_count": 1,
     "metadata": {},
     "output_type": "execute_result"
    }
   ],
   "source": [
    "def missingNumber(nums):\n",
    "    l = 0\n",
    "    r = len(nums)\n",
    "\n",
    "    while l < r:\n",
    "        mid = l + (r-l) // 2\n",
    "        if nums[mid] > mid:\n",
    "            r = mid\n",
    "        else:\n",
    "            l = mid + 1\n",
    "    return l\n",
    "nums = [9,6,4,2,3,5,7,0,1]\n",
    "missingNumber(nums)"
   ]
  },
  {
   "cell_type": "markdown",
   "id": "5aa9649d-b989-4cdc-8b30-f0e579ce3766",
   "metadata": {},
   "source": [
    "## Q4\n",
    "**Question 4**\n",
    "\n",
    "Given an array of integers `nums` containing `n + 1` integers where each integer is in the range `[1, n]` inclusive.\n",
    "\n",
    "There is only **one repeated number** in `nums`, return *this repeated number*.\n",
    "\n",
    "You must solve the problem **without** modifying the array `nums` and uses only constant extra space.\n",
    "\n",
    "**Example 1:**\n",
    "\n",
    "```\n",
    "Input: nums = [1,3,4,2,2]\n",
    "Output: 2\n",
    "\n",
    "```\n",
    "\n",
    "**Example 2:**\n",
    "\n",
    "```\n",
    "Input: nums = [3,1,3,4,2]\n",
    "Output: 3\n",
    "```"
   ]
  },
  {
   "cell_type": "code",
   "execution_count": null,
   "id": "7ff39b5e-ff38-41c7-9a68-7802cfc403ec",
   "metadata": {},
   "outputs": [],
   "source": [
    "def findDuplicate(nums):\n",
    "    n = len(nums)\n",
    "    def check(num: int) -> int:\n",
    "        count = functools.reduce(lambda acc, elem: acc + int(elem < num), nums, 0)\n",
    "        return count < num\n",
    "\n",
    "    lo, hi = 0, n\n",
    "\n",
    "    while lo < hi:\n",
    "        mid = (lo + hi) // 2\n",
    "\n",
    "        if check(mid + 1):\n",
    "            lo = mid + 1\n",
    "        else:\n",
    "            hi = mid\n",
    "    return lo\n",
    "nums = [1,3,4,2,2]\n",
    "findDuplicate(nums)"
   ]
  },
  {
   "cell_type": "markdown",
   "id": "ebc96d1c-c0eb-4473-be45-86071b9a3bda",
   "metadata": {},
   "source": [
    "## Q5\n",
    "**Question 5**\n",
    "\n",
    "Given two integer arrays `nums1` and `nums2`, return *an array of their intersection*. Each element in the result must be **unique** and you may return the result in **any order**.\n",
    "\n",
    "**Example 1:**\n",
    "\n",
    "```\n",
    "Input: nums1 = [1,2,2,1], nums2 = [2,2]\n",
    "Output: [2]\n",
    "\n",
    "```\n",
    "\n",
    "**Example 2:**\n",
    "\n",
    "```\n",
    "Input: nums1 = [4,9,5], nums2 = [9,4,9,8,4]\n",
    "Output: [9,4]\n",
    "Explanation: [4,9] is also accepted.\n",
    "```"
   ]
  },
  {
   "cell_type": "code",
   "execution_count": 1,
   "id": "92935109-4f35-49f1-b88c-c9ec50bb839d",
   "metadata": {},
   "outputs": [
    {
     "data": {
      "text/plain": [
       "[2]"
      ]
     },
     "execution_count": 1,
     "metadata": {},
     "output_type": "execute_result"
    }
   ],
   "source": [
    "def intersection(nums1, nums2):\n",
    "    Listnew=[]\n",
    "    for i in range(len(nums1)):\n",
    "        for j in range(len(nums2)):\n",
    "            if (nums1[i]==nums2[j]) and nums1[i] not in Listnew:\n",
    "                Listnew.append(nums1[i])\n",
    "    return Listnew\n",
    "nums1 = [1,2,2,1]\n",
    "nums2 = [2,2]\n",
    "intersection(nums1, nums2)"
   ]
  },
  {
   "cell_type": "markdown",
   "id": "dfc67be2-63b3-4818-8ac7-1e6d2d51b537",
   "metadata": {},
   "source": [
    "## Q6\n",
    "**Question 6**\n",
    "\n",
    "Suppose an array of length `n` sorted in ascending order is **rotated** between `1` and `n` times. For example, the array `nums = [0,1,2,4,5,6,7]` might become:\n",
    "\n",
    "- `[4,5,6,7,0,1,2]` if it was rotated `4` times.\n",
    "- `[0,1,2,4,5,6,7]` if it was rotated `7` times.\n",
    "\n",
    "Notice that **rotating** an array `[a[0], a[1], a[2], ..., a[n-1]]` 1 time results in the array `[a[n-1], a[0], a[1], a[2], ..., a[n-2]]`.\n",
    "\n",
    "Given the sorted rotated array `nums` of **unique** elements, return *the minimum element of this array*.\n",
    "\n",
    "You must write an algorithm that runs in `O(log n) time.`\n",
    "\n",
    "**Example 1:**\n",
    "\n",
    "```\n",
    "Input: nums = [3,4,5,1,2]\n",
    "Output: 1\n",
    "Explanation: The original array was [1,2,3,4,5] rotated 3 times.\n",
    "\n",
    "```\n",
    "\n",
    "**Example 2:**\n",
    "\n",
    "```\n",
    "Input: nums = [4,5,6,7,0,1,2]\n",
    "Output: 0\n",
    "Explanation: The original array was [0,1,2,4,5,6,7] and it was rotated 4 times.\n",
    "\n",
    "```\n",
    "\n",
    "**Example 3:**\n",
    "\n",
    "```\n",
    "Input: nums = [11,13,15,17]\n",
    "Output: 11\n",
    "Explanation: The original array was [11,13,15,17] and it was rotated 4 times.\n",
    "```"
   ]
  },
  {
   "cell_type": "code",
   "execution_count": 2,
   "id": "1ad648c4-961c-4589-8cb5-cb33565b0184",
   "metadata": {},
   "outputs": [
    {
     "data": {
      "text/plain": [
       "0"
      ]
     },
     "execution_count": 2,
     "metadata": {},
     "output_type": "execute_result"
    }
   ],
   "source": [
    "def findMin(nums) -> int:\n",
    "\n",
    "    left, right = 0, len(nums)-1\n",
    "\n",
    "    while left < right:\n",
    "        mid = (left + right) // 2\n",
    "\n",
    "        if nums[mid] > nums[right]:\n",
    "            left = mid + 1\n",
    "        else:\n",
    "            right = mid\n",
    "\n",
    "    return nums[left]\n",
    "nums = [4,5,6,7,0,1,2]\n",
    "findMin(nums)"
   ]
  },
  {
   "cell_type": "markdown",
   "id": "3ef16106-6483-4943-a24c-aa523c6ac9d0",
   "metadata": {},
   "source": [
    "## Q7\n",
    "**Question 7**\n",
    "\n",
    "Given an array of integers `nums` sorted in non-decreasing order, find the starting and ending position of a given `target` value.\n",
    "\n",
    "If `target` is not found in the array, return `[-1, -1]`.\n",
    "\n",
    "You must write an algorithm with `O(log n)` runtime complexity.\n",
    "\n",
    "**Example 1:**\n",
    "\n",
    "```\n",
    "Input: nums = [5,7,7,8,8,10], target = 8\n",
    "Output: [3,4]\n",
    "\n",
    "```\n",
    "\n",
    "**Example 2:**\n",
    "\n",
    "```\n",
    "Input: nums = [5,7,7,8,8,10], target = 6\n",
    "Output: [-1,-1]\n",
    "\n",
    "```\n",
    "\n",
    "**Example 3:**\n",
    "\n",
    "```\n",
    "Input: nums = [], target = 0\n",
    "Output: [-1,-1]\n",
    "```"
   ]
  },
  {
   "cell_type": "code",
   "execution_count": 4,
   "id": "219f9ee8-903a-4fb9-8680-abd6b79ea117",
   "metadata": {},
   "outputs": [
    {
     "data": {
      "text/plain": [
       "[3, 4]"
      ]
     },
     "execution_count": 4,
     "metadata": {},
     "output_type": "execute_result"
    }
   ],
   "source": [
    "def searchRange(nums, target):\n",
    "    start = 0; end = len(nums)-1\n",
    "    while start <= end:\n",
    "        mid = (start+end) // 2\n",
    "        if nums[start] == nums[end] == target:\n",
    "            return [start, end]\n",
    "        if nums[mid] < target:\n",
    "            start = mid+1\n",
    "        elif nums[mid] > target:\n",
    "            end = mid-1\n",
    "        else:\n",
    "            if nums[start] != target: start += 1\n",
    "            if nums[end] != target: end -= 1\n",
    "    return [-1,-1]\n",
    "nums = [5,7,7,8,8,10]\n",
    "target = 8\n",
    "searchRange(nums, target)"
   ]
  },
  {
   "cell_type": "markdown",
   "id": "edec1b5a-edd6-43c7-ac59-49685915e38f",
   "metadata": {},
   "source": [
    "## Q8\n",
    "**Question 8**\n",
    "\n",
    "Given two integer arrays `nums1` and `nums2`, return *an array of their intersection*. Each element in the result must appear as many times as it shows in both arrays and you may return the result in **any order**.\n",
    "\n",
    "**Example 1:**\n",
    "\n",
    "```\n",
    "Input: nums1 = [1,2,2,1], nums2 = [2,2]\n",
    "Output: [2,2]\n",
    "\n",
    "```\n",
    "\n",
    "**Example 2:**\n",
    "```\n",
    "Input: nums1 = [4,9,5], nums2 = [9,4,9,8,4]\n",
    "Output: [4,9]\n",
    "Explanation: [9,4] is also accepted.\n",
    "```"
   ]
  },
  {
   "cell_type": "code",
   "execution_count": null,
   "id": "38ce633e-e483-4163-b030-f768bd9c40de",
   "metadata": {},
   "outputs": [],
   "source": []
  }
 ],
 "metadata": {
  "kernelspec": {
   "display_name": "Python 3 (ipykernel)",
   "language": "python",
   "name": "python3"
  },
  "language_info": {
   "codemirror_mode": {
    "name": "ipython",
    "version": 3
   },
   "file_extension": ".py",
   "mimetype": "text/x-python",
   "name": "python",
   "nbconvert_exporter": "python",
   "pygments_lexer": "ipython3",
   "version": "3.10.6"
  }
 },
 "nbformat": 4,
 "nbformat_minor": 5
}
