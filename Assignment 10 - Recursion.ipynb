{
 "cells": [
  {
   "cell_type": "markdown",
   "id": "34854d2d-9e79-468c-bcf4-f7e6b90d9dc7",
   "metadata": {},
   "source": [
    "# Assignment 10 Questions - Recursion | DSA"
   ]
  },
  {
   "cell_type": "markdown",
   "id": "a9996b78-2474-4845-b1aa-06b20505c575",
   "metadata": {},
   "source": [
    "## Q1\n",
    "**Question 1**\n",
    "\n",
    "Given an integer `n`, return *`true` if it is a power of three. Otherwise, return `false`*.\n",
    "\n",
    "An integer `n` is a power of three, if there exists an integer `x` such that `n == 3x`.\n",
    "\n",
    "**Example 1:**\n",
    "\n",
    "```\n",
    "Input: n = 27\n",
    "Output: true\n",
    "Explanation: 27 = 33\n",
    "```\n",
    "\n",
    "**Example 2:**\n",
    "\n",
    "```\n",
    "Input: n = 0\n",
    "Output: false\n",
    "Explanation: There is no x where 3x = 0.\n",
    "\n",
    "```\n",
    "\n",
    "**Example 3:**\n",
    "\n",
    "```\n",
    "Input: n = -1\n",
    "Output: false\n",
    "Explanation: There is no x where 3x = (-1).\n",
    "```"
   ]
  },
  {
   "cell_type": "code",
   "execution_count": 1,
   "id": "63a63a85-5c3c-453f-8176-5020275e7e5d",
   "metadata": {},
   "outputs": [
    {
     "data": {
      "text/plain": [
       "True"
      ]
     },
     "execution_count": 1,
     "metadata": {},
     "output_type": "execute_result"
    }
   ],
   "source": [
    "def isPowerOfThree(n) -> bool:\n",
    "    if n == 1:\n",
    "        return True\n",
    "    if n < 1 or n % 3 != 0:\n",
    "        return False\n",
    "    return isPowerOfThree(n // 3)\n",
    "n = 27\n",
    "isPowerOfThree(n)"
   ]
  },
  {
   "cell_type": "markdown",
   "id": "9995a382-0580-47a6-9ca3-b1c7420bb108",
   "metadata": {},
   "source": [
    "## Q2\n",
    "**Question 2**\n",
    "\n",
    "You have a list `arr` of all integers in the range `[1, n]` sorted in a strictly increasing order. Apply the following algorithm on `arr`:\n",
    "\n",
    "- Starting from left to right, remove the first number and every other number afterward until you reach the end of the list.\n",
    "- Repeat the previous step again, but this time from right to left, remove the rightmost number and every other number from the remaining numbers.\n",
    "- Keep repeating the steps again, alternating left to right and right to left, until a single number remains.\n",
    "\n",
    "Given the integer `n`, return *the last number that remains in* `arr`.\n",
    "\n",
    "**Example 1:**\n",
    "\n",
    "```\n",
    "Input: n = 9\n",
    "Output: 6\n",
    "Explanation:\n",
    "arr = [1, 2,3, 4,5, 6,7, 8,9]\n",
    "arr = [2,4, 6,8]\n",
    "arr = [2, 6]\n",
    "arr = [6]\n",
    "\n",
    "```\n",
    "\n",
    "**Example 2:**\n",
    "\n",
    "```\n",
    "Input: n = 1\n",
    "Output: 1\n",
    "```"
   ]
  },
  {
   "cell_type": "code",
   "execution_count": 4,
   "id": "20e06fbd-7c5f-4eb3-af10-4b25d3590758",
   "metadata": {},
   "outputs": [
    {
     "data": {
      "text/plain": [
       "6"
      ]
     },
     "execution_count": 4,
     "metadata": {},
     "output_type": "execute_result"
    }
   ],
   "source": [
    "def lastRemaining(n) -> int:\n",
    "    if n == 1:\n",
    "        return 1\n",
    "    if n % 2 == 1:\n",
    "        n = n - 1\n",
    "    return 2 * (n//2 + 1 - lastRemaining(n//2))\n",
    "n = 9\n",
    "lastRemaining(n)"
   ]
  },
  {
   "cell_type": "markdown",
   "id": "e31b0884-40e6-4adb-8e52-9c887859a8f7",
   "metadata": {},
   "source": [
    "## Q3\n",
    " **Question 3**\n",
    "\n",
    "****Given a set represented as a string, write a recursive code to print all subsets of it. The subsets can be printed in any order.\n",
    "\n",
    "**Example 1:**\n",
    "\n",
    "Input :  set = “abc”\n",
    "\n",
    "Output : { “”, “a”, “b”, “c”, “ab”, “ac”, “bc”, “abc”}\n",
    "\n",
    "**Example 2:**\n",
    "\n",
    "Input : set = “abcd”\n",
    "\n",
    "Output : { “”, “a” ,”ab” ,”abc” ,”abcd”, “abd” ,”ac” ,”acd”, “ad” ,”b”, “bc” ,”bcd” ,”bd” ,”c” ,”cd” ,”d” }"
   ]
  },
  {
   "cell_type": "code",
   "execution_count": 11,
   "id": "63fc99ee-5511-4fff-8a3e-64d0e39d39f9",
   "metadata": {},
   "outputs": [
    {
     "data": {
      "text/plain": [
       "['', 'c', 'b', 'bc', 'a', 'ac', 'ab', 'abc']"
      ]
     },
     "execution_count": 11,
     "metadata": {},
     "output_type": "execute_result"
    }
   ],
   "source": [
    "def generate_subsets(set):\n",
    "    subsets = []\n",
    "    backtrack(set, \"\", subsets)\n",
    "    return subsets[::-1]\n",
    "\n",
    "def backtrack(s, current, subsets):\n",
    "    if len(s) == 0:\n",
    "        subsets.append(current)\n",
    "        return\n",
    "    backtrack(s[1:], current + s[0], subsets)\n",
    "    backtrack(s[1:], current, subsets)\n",
    "set = \"abc\"\n",
    "generate_subsets(set)"
   ]
  },
  {
   "cell_type": "markdown",
   "id": "92b24921-df92-4b03-a74c-9b7e738ec385",
   "metadata": {},
   "source": [
    "## Q4\n",
    "**Question 4**\n",
    "\n",
    "Given a string calculate length of the string using recursion.\n",
    "\n",
    "**Examples:**\n",
    "\n",
    "```\n",
    "Input : str = \"abcd\"\n",
    "Output :4\n",
    "\n",
    "Input : str = \"GEEKSFORGEEKS\"\n",
    "Output :13\n",
    "```"
   ]
  },
  {
   "cell_type": "code",
   "execution_count": 13,
   "id": "807b1e16-0cb8-4b3e-a336-d258ed75bf97",
   "metadata": {},
   "outputs": [
    {
     "data": {
      "text/plain": [
       "4"
      ]
     },
     "execution_count": 13,
     "metadata": {},
     "output_type": "execute_result"
    }
   ],
   "source": [
    "def calculate_length(string):\n",
    "    if string == \"\":\n",
    "        return 0\n",
    "    return 1 + calculate_length(string[1:])\n",
    "string = \"abcd\"\n",
    "calculate_length(string)"
   ]
  },
  {
   "cell_type": "markdown",
   "id": "9c5c8fdd-af85-452a-81da-217545f2a32d",
   "metadata": {},
   "source": [
    "## Q5\n",
    "**Question 5**\n",
    "\n",
    "We are given a string S, we need to find count of all contiguous substrings starting and ending with same character.\n",
    "\n",
    "**Examples :**\n",
    "\n",
    "```\n",
    "Input  : S = \"abcab\"\n",
    "Output : 7\n",
    "There are 15 substrings of \"abcab\"\n",
    "a, ab, abc, abca, abcab, b, bc, bca\n",
    "bcab, c, ca, cab, a, ab, b\n",
    "Out of the above substrings, there\n",
    "are 7 substrings : a, abca, b, bcab,\n",
    "c, a and b.\n",
    "\n",
    "Input  : S = \"aba\"\n",
    "Output : 4\n",
    "The substrings are a, b, a and aba\n",
    "```"
   ]
  },
  {
   "cell_type": "code",
   "execution_count": 14,
   "id": "0b236fe7-3c55-462b-b408-95aa9a49d505",
   "metadata": {},
   "outputs": [
    {
     "data": {
      "text/plain": [
       "7"
      ]
     },
     "execution_count": 14,
     "metadata": {},
     "output_type": "execute_result"
    }
   ],
   "source": [
    "def count_substrings(s):\n",
    "    count = 0\n",
    "    n = len(s)\n",
    "    \n",
    "    for i in range(n):\n",
    "        for j in range(i, n):\n",
    "            if s[i] == s[j]:\n",
    "                count += 1              \n",
    "    return count\n",
    "s = \"abcab\"\n",
    "count_substrings(s)"
   ]
  },
  {
   "cell_type": "markdown",
   "id": "f9180632-7217-4af6-b9e0-e791143b710a",
   "metadata": {},
   "source": [
    "## Q6\n",
    "**Question 6**\n",
    "\n",
    "The [tower of Hanoi](https://en.wikipedia.org/wiki/Tower_of_Hanoi) is a famous puzzle where we have three rods and **N** disks. The objective of the puzzle is to move the entire stack to another rod. You are given the number of discs **N**. Initially, these discs are in the rod 1. You need to print all the steps of discs movement so that all the discs reach the 3rd rod. Also, you need to find the total moves.**Note:** The discs are arranged such that the **top disc is numbered 1** and the **bottom-most disc is numbered N**. Also, all the discs have **different sizes** and a bigger disc **cannot** be put on the top of a smaller disc. Refer the provided link to get a better clarity about the puzzle.\n",
    "\n",
    "**Example 1:**\n",
    "\n",
    "```\n",
    "Input:\n",
    "N = 2\n",
    "Output:\n",
    "move disk 1 from rod 1 to rod 2\n",
    "move disk 2 from rod 1 to rod 3\n",
    "move disk 1 from rod 2 to rod 3\n",
    "3\n",
    "Explanation:For N=2 , steps will be\n",
    "as follows in the example and total\n",
    "3 steps will be taken.\n",
    "```\n",
    "\n",
    "**Example 2:**\n",
    "\n",
    "```\n",
    "Input:\n",
    "N = 3\n",
    "Output:\n",
    "move disk 1 from rod 1 to rod 3\n",
    "move disk 2 from rod 1 to rod 2\n",
    "move disk 1 from rod 3 to rod 2\n",
    "move disk 3 from rod 1 to rod 3\n",
    "move disk 1 from rod 2 to rod 1\n",
    "move disk 2 from rod 2 to rod 3\n",
    "move disk 1 from rod 1 to rod 3\n",
    "7\n",
    "Explanation:For N=3 , steps will be\n",
    "as follows in the example and total\n",
    "7 steps will be taken.\n",
    "```"
   ]
  },
  {
   "cell_type": "code",
   "execution_count": 17,
   "id": "77c861b0-4156-4981-bf33-b2e46f89f9cf",
   "metadata": {},
   "outputs": [
    {
     "name": "stdout",
     "output_type": "stream",
     "text": [
      "move disk 1 from rod 1 to rod 3\n",
      "move disk 2 from rod 1 to rod 2\n",
      "move disk 1 from rod 3 to rod 2\n",
      "move disk 3 from rod 1 to rod 3\n",
      "move disk 1 from rod 2 to rod 1\n",
      "move disk 2 from rod 2 to rod 3\n",
      "move disk 1 from rod 1 to rod 3\n"
     ]
    },
    {
     "data": {
      "text/plain": [
       "7"
      ]
     },
     "execution_count": 17,
     "metadata": {},
     "output_type": "execute_result"
    }
   ],
   "source": [
    "def tower_of_hanoi(n, source, destination, auxiliary):\n",
    "    if n == 1:\n",
    "        print(\"move disk 1 from rod\", source, \"to rod\", destination)\n",
    "        return 1\n",
    "    \n",
    "    count = 0\n",
    "    \n",
    "    count += tower_of_hanoi(n - 1, source, auxiliary, destination)\n",
    "    print(\"move disk\", n, \"from rod\", source, \"to rod\", destination)\n",
    "    count += 1\n",
    "    count += tower_of_hanoi(n - 1, auxiliary, destination, source)\n",
    "    \n",
    "    return count\n",
    "n = 3\n",
    "tower_of_hanoi(n, 1, 3, 2)"
   ]
  },
  {
   "cell_type": "markdown",
   "id": "94eee076-a958-42e1-b601-3e2ef3a7528d",
   "metadata": {},
   "source": [
    "## Q7\n",
    "**Question 7**\n",
    "\n",
    "Given a string **str**, the task is to print all the permutations of **str**. A **permutation** is an arrangement of all or part of a set of objects, with regard to the order of the arrangement. For instance, the words ‘bat’ and ‘tab’ represents two distinct permutation (or arrangements) of a similar three letter word.\n",
    "\n",
    "**Examples:**\n",
    "\n",
    "> Input: str = “cd”\n",
    "> \n",
    "> \n",
    "> **Output:** cd dc\n",
    "> \n",
    "> **Input:** str = “abb”\n",
    "> \n",
    "> **Output:** abb abb bab bba bab bba"
   ]
  },
  {
   "cell_type": "code",
   "execution_count": 19,
   "id": "fce9a95b-15e5-431f-9633-eb58177ab043",
   "metadata": {},
   "outputs": [
    {
     "name": "stdout",
     "output_type": "stream",
     "text": [
      "cd\n",
      "dc\n"
     ]
    }
   ],
   "source": [
    "def permute_string(str):\n",
    "    n = len(str)\n",
    "    chars = list(str)\n",
    "    def backtrack(start):\n",
    "        if start == n:\n",
    "            print(''.join(chars))\n",
    "        else:\n",
    "            for i in range(start, n):\n",
    "                chars[start], chars[i] = chars[i], chars[start]\n",
    "                backtrack(start + 1)\n",
    "                chars[start], chars[i] = chars[i], chars[start]\n",
    "\n",
    "    backtrack(0)\n",
    "str = \"cd\"\n",
    "permute_string(str)"
   ]
  },
  {
   "cell_type": "markdown",
   "id": "89333256-502b-4c2b-ac53-7504379b0510",
   "metadata": {},
   "source": [
    "## Q8\n",
    "**Question 8**\n",
    "Given a string, count total number of consonants in it. A consonant is an English alphabet character that is not vowel (a, e, i, o and u). Examples of constants are b, c, d, f, and g.\n",
    "\n",
    "**Examples :**\n",
    "Input : abc de\n",
    "Output : 3\n",
    "There are three consonants b, c and d.\n",
    "\n",
    "Input : geeksforgeeks portal\n",
    "Output : 12"
   ]
  },
  {
   "cell_type": "code",
   "execution_count": null,
   "id": "69719a15-210e-400c-b753-dbc71c3aa97b",
   "metadata": {},
   "outputs": [],
   "source": []
  }
 ],
 "metadata": {
  "kernelspec": {
   "display_name": "Python 3 (ipykernel)",
   "language": "python",
   "name": "python3"
  },
  "language_info": {
   "codemirror_mode": {
    "name": "ipython",
    "version": 3
   },
   "file_extension": ".py",
   "mimetype": "text/x-python",
   "name": "python",
   "nbconvert_exporter": "python",
   "pygments_lexer": "ipython3",
   "version": "3.10.6"
  }
 },
 "nbformat": 4,
 "nbformat_minor": 5
}
