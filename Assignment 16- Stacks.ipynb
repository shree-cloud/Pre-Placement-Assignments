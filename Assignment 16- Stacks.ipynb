{
 "cells": [
  {
   "cell_type": "markdown",
   "id": "9acfa145-f22d-4e27-a266-8ab23f1cdca9",
   "metadata": {},
   "source": [
    "# Assignment 16 Questions - Stacks | DSA"
   ]
  },
  {
   "cell_type": "markdown",
   "id": "7a53d5ee-5a61-4c57-92fb-098e7da146bf",
   "metadata": {},
   "source": [
    "## Q1\n",
    "\n",
    "**Question 1**\n",
    "\n",
    "Given an array, for each element find the value of the nearest element to the right which is having a frequency greater than that of the current element. If there does not exist an answer for a position, then make the value ‘-1’.\n",
    "\n",
    "**Examples:**\n",
    "Input: a[] = [1, 1, 2, 3, 4, 2, 1]\n",
    "Output : [-1, -1, 1, 2, 2, 1, -1]\n",
    "\n",
    "Explanation:\n",
    "Given array a[] = [1, 1, 2, 3, 4, 2, 1]\n",
    "Frequency of each element is: 3, 3, 2, 1, 1, 2, 3\n",
    "\n",
    "Lets calls Next Greater Frequency element as NGF\n",
    "1. For element a[0] = 1 which has a frequency = 3,\n",
    "   As it has frequency of 3 and no other next element\n",
    "   has frequency more than 3 so  '-1'\n",
    "2. For element a[1] = 1 it will be -1 same logic\n",
    "   like a[0]\n",
    "3. For element a[2] = 2 which has frequency = 2,\n",
    "   NGF element is 1 at position = 6  with frequency\n",
    "   of 3 > 2\n",
    "4. For element a[3] = 3 which has frequency = 1,\n",
    "   NGF element is 2 at position = 5 with frequency\n",
    "   of 2 > 1\n",
    "5. For element a[4] = 4 which has frequency = 1,\n",
    "   NGF element is 2 at position = 5 with frequency\n",
    "   of 2 > 1\n",
    "6. For element a[5] = 2 which has frequency = 2,\n",
    "   NGF element is 1 at position = 6 with frequency\n",
    "   of 3 > 2\n",
    "7. For element a[6] = 1 there is no element to its\n",
    "   right, hence -1\n",
    "   \n",
    "   \n",
    "Input : a[] = [1, 1, 1, 2, 2, 2, 2, 11, 3, 3]\n",
    "Output : [2, 2, 2, -1, -1, -1, -1, 3, -1, -1]"
   ]
  },
  {
   "cell_type": "code",
   "execution_count": 2,
   "id": "d7a5af25-ff59-4dee-b360-74e4ae463c0e",
   "metadata": {},
   "outputs": [
    {
     "data": {
      "text/plain": [
       "[-1, -1, 1, 2, 2, 1, -1]"
      ]
     },
     "execution_count": 2,
     "metadata": {},
     "output_type": "execute_result"
    }
   ],
   "source": [
    "def NFG(a, n):\n",
    "\n",
    "\tif (n <= 0):\n",
    "\t\tprint(\"List empty\")\n",
    "\t\treturn []\n",
    "\n",
    "\tstack = [0]*n\n",
    "\n",
    "\tfreq = {}\n",
    "\tfor i in a:\n",
    "\t\tfreq[a[i]] = 0\n",
    "\tfor i in a:\n",
    "\t\tfreq[a[i]] += 1\n",
    "\n",
    "\tres = [0]*n\n",
    "\n",
    "\ttop = -1\n",
    "\n",
    "\ttop += 1\n",
    "\tstack[top] = 0\n",
    "\n",
    "\tfor i in range(1, n):\n",
    "\t\tif (freq[a[stack[top]]] > freq[a[i]]):\n",
    "\t\t\ttop += 1\n",
    "\t\t\tstack[top] = i\n",
    "\n",
    "\t\telse:\n",
    "\t\t\twhile (top > -1 and freq[a[stack[top]]] < freq[a[i]]):\n",
    "\t\t\t\tres[stack[top]] = a[i]\n",
    "\t\t\t\ttop -= 1\n",
    "\t\t\ttop += 1\n",
    "\t\t\tstack[top] = i\n",
    "\twhile (top > -1):\n",
    "\t\tres[stack[top]] = -1\n",
    "\t\ttop -= 1\n",
    "\n",
    "\treturn res\n",
    "\n",
    "NFG([1, 1, 2, 3, 4, 2, 1], 7)"
   ]
  },
  {
   "cell_type": "markdown",
   "id": "6175bf5e-3dce-4552-8b2d-8564a09b2be1",
   "metadata": {},
   "source": [
    "## Q2\n",
    "Given a stack of integers, sort it in ascending order using another temporary stack.\n",
    "\n",
    "**Examples:**\n",
    "Input : [34, 3, 31, 98, 92, 23]\n",
    "Output : [3, 23, 31, 34, 92, 98]\n",
    "\n",
    "Input : [3, 5, 1, 4, 2, 8]\n",
    "Output : [1, 2, 3, 4, 5, 8]"
   ]
  },
  {
   "cell_type": "code",
   "execution_count": 8,
   "id": "fcdec264-b5e8-4a04-9fb6-71147fa5d2b1",
   "metadata": {},
   "outputs": [
    {
     "data": {
      "text/plain": [
       "[3, 23, 31, 34, 92, 98]"
      ]
     },
     "execution_count": 8,
     "metadata": {},
     "output_type": "execute_result"
    }
   ],
   "source": [
    "def sortStack(stack):\n",
    "    tempStack = []\n",
    "    \n",
    "    while stack:\n",
    "        temp = stack.pop()\n",
    "        \n",
    "        while tempStack and tempStack[-1] > temp:\n",
    "            stack.append(tempStack.pop())\n",
    "        \n",
    "        tempStack.append(temp)\n",
    "    \n",
    "    return tempStack\n",
    "\n",
    "\n",
    "stack = [34, 3, 31, 98, 92, 23]\n",
    "sortStack(stack)"
   ]
  },
  {
   "cell_type": "markdown",
   "id": "a4324952-5ed8-4ab3-a150-521fccf6346c",
   "metadata": {},
   "source": [
    "## Q3\n",
    "**Question 3**\n",
    "\n",
    "Given a stack with **push()**, **pop()**, and **empty()** operations, The task is to delete the **middle** element ****of it without using any additional data structure.\n",
    "\n",
    "Input  : Stack[] = [1, 2, 3, 4, 5]\n",
    "\n",
    "Output : Stack[] = [1, 2, 4, 5]\n",
    "\n",
    "Input  : Stack[] = [1, 2, 3, 4, 5, 6]\n",
    "\n",
    "Output : Stack[] = [1, 2, 4, 5, 6]"
   ]
  },
  {
   "cell_type": "code",
   "execution_count": 26,
   "id": "67eecede-8f64-487b-828e-7bc3089e48e0",
   "metadata": {},
   "outputs": [
    {
     "data": {
      "text/plain": [
       "[1, 2, 4, 5]"
      ]
     },
     "execution_count": 26,
     "metadata": {},
     "output_type": "execute_result"
    }
   ],
   "source": [
    "def deleteMiddle(stack, curr_index, mid_index):\n",
    "    if curr_index == mid_index:\n",
    "        stack.pop()\n",
    "        return\n",
    "\n",
    "    element = stack.pop()\n",
    "    deleteMiddle(stack, curr_index + 1, mid_index)\n",
    "    stack.append(element)\n",
    "\n",
    "def deleteMiddleElement(stack):\n",
    "    size = len(stack)\n",
    "    mid_index = size // 2\n",
    "\n",
    "    deleteMiddle(stack, 0, mid_index)\n",
    "    \n",
    "stack = [1, 2, 3, 4, 5]\n",
    "deleteMiddleElement(stack)\n",
    "stack"
   ]
  },
  {
   "cell_type": "markdown",
   "id": "6860cbef-0e48-4b8a-b5cf-90f3a8379ee7",
   "metadata": {},
   "source": [
    "## Q4\n",
    "**Question 4**\n",
    "\n",
    "Given a Queue consisting of first **n** natural numbers (in random order). The task is to check whether the given Queue elements can be arranged in increasing order in another Queue using a stack. The operation allowed are:\n",
    "\n",
    "1. Push and pop elements from the stack\n",
    "2. Pop (Or Dequeue) from the given Queue.\n",
    "3. Push (Or Enqueue) in the another Queue.\n",
    "\n",
    "**Examples :**\n",
    "\n",
    "Input : Queue[] = { 5, 1, 2, 3, 4 } \n",
    "\n",
    "Output : Yes \n",
    "\n",
    "Pop the first element of the given Queue \n",
    "\n",
    "i.e 5. Push 5 into the stack. \n",
    "\n",
    "Now, pop all the elements of the given Queue and push them to second Queue. \n",
    "\n",
    "Now, pop element 5 in the stack and push it to the second Queue.   \n",
    "\n",
    "Input : Queue[] = { 5, 1, 2, 6, 3, 4 } \n",
    "\n",
    "Output : No \n",
    "\n",
    "Push 5 to stack. \n",
    "\n",
    "Pop 1, 2 from given Queue and push it to another Queue. \n",
    "\n",
    "Pop 6 from given Queue and push to stack. \n",
    "\n",
    "Pop 3, 4 from given Queue and push to second Queue. \n",
    "\n",
    "Now, from using any of above operation, we cannot push 5 into the second Queue because it is below the 6 in the stack."
   ]
  },
  {
   "cell_type": "code",
   "execution_count": 28,
   "id": "01fa83a1-94c8-42e5-8ce6-6ecea7a87be2",
   "metadata": {},
   "outputs": [
    {
     "data": {
      "text/plain": [
       "'Yes'"
      ]
     },
     "execution_count": 28,
     "metadata": {},
     "output_type": "execute_result"
    }
   ],
   "source": [
    "from queue import Queue\n",
    "\n",
    "def checkArrangement(queue):\n",
    "    stack = []\n",
    "    secondQueue = Queue()\n",
    "    expected = 1\n",
    "\n",
    "    while not queue.empty():\n",
    "        element = queue.get()\n",
    "\n",
    "        if element == expected:\n",
    "            secondQueue.put(element)\n",
    "            expected += 1\n",
    "        else:\n",
    "            if len(stack) == 0 or stack[-1] < element:\n",
    "                stack.append(element)\n",
    "            else:\n",
    "                return \"No\"\n",
    "\n",
    "    while len(stack) > 0:\n",
    "        secondQueue.put(stack.pop())\n",
    "\n",
    "    for i in range(1, expected):\n",
    "        if secondQueue.get() != i:\n",
    "            return \"No\"\n",
    "\n",
    "    return \"Yes\"\n",
    "\n",
    "\n",
    "queue = Queue()\n",
    "queue.put(5)\n",
    "queue.put(1)\n",
    "queue.put(2)\n",
    "queue.put(3)\n",
    "queue.put(4)\n",
    "\n",
    "checkArrangement(queue)"
   ]
  },
  {
   "cell_type": "markdown",
   "id": "017b1b3c-4fb0-4f92-bb31-d762066a5518",
   "metadata": {},
   "source": [
    "## Q5\n",
    "**Question 5**\n",
    "\n",
    "Given a number , write a program to reverse this number using stack.\n",
    "\n",
    "**Examples:**\n",
    "\n",
    "```\n",
    "Input : 365\n",
    "Output : 563\n",
    "\n",
    "Input : 6899\n",
    "Output : 9986\n",
    "```"
   ]
  },
  {
   "cell_type": "code",
   "execution_count": 30,
   "id": "1c9fd917-ba6f-4b3d-99be-9195d043c5d5",
   "metadata": {},
   "outputs": [
    {
     "data": {
      "text/plain": [
       "563"
      ]
     },
     "execution_count": 30,
     "metadata": {},
     "output_type": "execute_result"
    }
   ],
   "source": [
    "def reverseNumber(num):\n",
    "    numStr = str(num)\n",
    "    stack = []\n",
    "\n",
    "    for char in numStr:\n",
    "        stack.append(char)\n",
    "\n",
    "    reversedStr = \"\"\n",
    "    \n",
    "    while stack:\n",
    "        reversedStr += stack.pop()\n",
    "\n",
    "    reversedNum = int(reversedStr)\n",
    "\n",
    "    return reversedNum\n",
    "num = 365\n",
    "reverseNumber(num)"
   ]
  },
  {
   "cell_type": "markdown",
   "id": "75c1bdea-be68-475a-a017-297354341cb4",
   "metadata": {},
   "source": [
    "## Q6\n",
    "**Question 6**\n",
    "\n",
    "Given an integer k and a **[queue](https://www.geeksforgeeks.org/queue-data-structure/)** of integers, The task is to reverse the order of the first **k** elements of the queue, leaving the other elements in the same relative order.\n",
    "\n",
    "Only following standard operations are allowed on queue.\n",
    "\n",
    "- **enqueue(x) :** Add an item x to rear of queue\n",
    "- **dequeue() :** Remove an item from front of queue\n",
    "- **size() :** Returns number of elements in queue.\n",
    "- **front() :** Finds front item."
   ]
  },
  {
   "cell_type": "code",
   "execution_count": 34,
   "id": "6d721f96-7d59-43f2-913b-1825b29c1671",
   "metadata": {},
   "outputs": [
    {
     "name": "stdout",
     "output_type": "stream",
     "text": [
      "3\n",
      "2\n",
      "1\n",
      "4\n",
      "5\n"
     ]
    }
   ],
   "source": [
    "from queue import Queue\n",
    "\n",
    "def reverseFirstK(queue, k):\n",
    "    if k <= 0 or k > queue.qsize():\n",
    "        return queue\n",
    "\n",
    "    stack = []\n",
    "    \n",
    "    for i in range(k):\n",
    "        stack.append(queue.get())\n",
    "    \n",
    "    while stack:\n",
    "        queue.put(stack.pop())\n",
    "\n",
    "    for i in range(queue.qsize() - k):\n",
    "        queue.put(queue.get())\n",
    "\n",
    "    return queue\n",
    "\n",
    "\n",
    "queue = Queue()\n",
    "queue.put(1)\n",
    "queue.put(2)\n",
    "queue.put(3)\n",
    "queue.put(4)\n",
    "queue.put(5)\n",
    "\n",
    "k = 3\n",
    "\n",
    "reversedQueue = reverseFirstK(queue, k)\n",
    "\n",
    "while not reversedQueue.empty():\n",
    "    print(reversedQueue.get())"
   ]
  },
  {
   "cell_type": "markdown",
   "id": "16aa0e64-36e8-4a52-beb7-0157029a623e",
   "metadata": {},
   "source": [
    "## Q7\n",
    "**Question 7**\n",
    "\n",
    "Given a sequence of n strings, the task is to check if any two similar words come together and then destroy each other then print the number of words left in the sequence after this pairwise destruction.\n",
    "\n",
    "**Examples:**\n",
    "\n",
    "Input : ab aa aa bcd ab\n",
    "\n",
    "Output : 3\n",
    "\n",
    "*As aa, aa destroys each other so,*\n",
    "\n",
    "*ab bcd ab is the new sequence.*\n",
    "\n",
    "Input :  tom jerry jerry tom\n",
    "\n",
    "Output : 0\n",
    "\n",
    "*As first both jerry will destroy each other.*\n",
    "\n",
    "*Then sequence will be tom, tom they will also destroy*\n",
    "\n",
    "*each other. So, the final sequence doesn’t contain any*\n",
    "\n",
    "*word.*"
   ]
  },
  {
   "cell_type": "code",
   "execution_count": 36,
   "id": "3634d186-a63f-4b79-88eb-1c70dc017c0b",
   "metadata": {},
   "outputs": [
    {
     "name": "stdout",
     "output_type": "stream",
     "text": [
      "3\n"
     ]
    }
   ],
   "source": [
    "def countWordsLeft(sequence):\n",
    "    stack = []\n",
    "    \n",
    "    for word in sequence:\n",
    "        if len(stack) > 0 and stack[-1] == word:\n",
    "            stack.pop()\n",
    "        else:\n",
    "            stack.append(word)\n",
    "    \n",
    "    return len(stack)\n",
    "\n",
    "\n",
    "sequence1 = [\"ab\", \"aa\", \"aa\", \"bcd\", \"ab\"]\n",
    "print(countWordsLeft(sequence1))"
   ]
  },
  {
   "cell_type": "markdown",
   "id": "092507e8-704a-41b3-a133-a4ac78e37d2b",
   "metadata": {},
   "source": [
    "## Q8\n",
    "**Question 8**\n",
    "\n",
    "Given an array of integers, the task is to find the maximum absolute difference between the nearest left and the right smaller element of every element in the array.\n",
    "\n",
    "**Note:** If there is no smaller element on right side or left side of any element then we take zero as the smaller element. For example for the leftmost element, the nearest smaller element on the left side is considered as 0. Similarly, for rightmost elements, the smaller element on the right side is considered as 0.\n",
    "\n",
    "**Examples:**\n",
    "Input : arr[] = {2, 1, 8}\n",
    "Output : 1\n",
    "Left smaller  LS[] {0, 0, 1}\n",
    "Right smaller RS[] {1, 0, 0}\n",
    "Maximum Diff of abs(LS[i] - RS[i]) = 1\n",
    "\n",
    "Input  : arr[] = {2, 4, 8, 7, 7, 9, 3}\n",
    "Output : 4\n",
    "Left smaller   LS[] = {0, 2, 4, 4, 4, 7, 2}\n",
    "Right smaller  RS[] = {0, 3, 7, 3, 3, 3, 0}\n",
    "Maximum Diff of abs(LS[i] - RS[i]) = 7 - 3 = 4\n",
    "\n",
    "Input : arr[] = {5, 1, 9, 2, 5, 1, 7}\n",
    "Output : 1"
   ]
  },
  {
   "cell_type": "code",
   "execution_count": null,
   "id": "d89ee9e7-e244-465b-88fc-f8763795c919",
   "metadata": {},
   "outputs": [],
   "source": []
  }
 ],
 "metadata": {
  "kernelspec": {
   "display_name": "Python 3 (ipykernel)",
   "language": "python",
   "name": "python3"
  },
  "language_info": {
   "codemirror_mode": {
    "name": "ipython",
    "version": 3
   },
   "file_extension": ".py",
   "mimetype": "text/x-python",
   "name": "python",
   "nbconvert_exporter": "python",
   "pygments_lexer": "ipython3",
   "version": "3.10.6"
  }
 },
 "nbformat": 4,
 "nbformat_minor": 5
}
